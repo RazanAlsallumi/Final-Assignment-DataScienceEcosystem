{
 "cells": [
  {
   "cell_type": "markdown",
   "id": "825c67ee-b58a-4fa6-8075-233e24df17ff",
   "metadata": {},
   "source": [
    "# Final Assignment: Create and Share Your Jupyter Notebook BY Razan Alsallumi"
   ]
  },
  {
   "cell_type": "markdown",
   "id": "ea7677ad-1882-4713-b9d2-eb9a20484c81",
   "metadata": {
    "tags": []
   },
   "source": [
    "## Exercise 1: Create a Jupyter Notebook\n",
    "### Create a new Jupyter notebook called DataScienceEcosystem.ipynb"
   ]
  },
  {
   "cell_type": "markdown",
   "id": "ad91393e-7556-410c-a969-bf756e471f4f",
   "metadata": {},
   "source": [
    "### _My soluation_: \n",
    "\n",
    "[Click here](https://ibb.co/gWBBhJH)"
   ] 
  },
  {
   "cell_type": "markdown",
   "id": "4f8945f3-529a-41bf-901a-0658490f0110",
   "metadata": {
    "tags": []
   },
   "source": [
    "## Exercise 2: Create markdown cell with title of the notebook"
   ]
  },
  {
   "cell_type": "markdown",
   "id": "47547ea3-930b-4baa-ac4d-450f34ad2260",
   "metadata": {},
   "source": [
    "### _My soluation_: \n"
   ]
  },
  {
   "cell_type": "markdown",
   "id": "ad3c7155-e077-4de4-a2b0-b41b03a3f4af",
   "metadata": {},
   "source": [
    "# Data Science Tools and Ecosystem"
   ]
  },
  {
   "cell_type": "markdown",
   "id": "344c9d6e-3340-4323-95e5-95ca4e9977a5",
   "metadata": {},
   "source": [
    "## Exercise 3 - Create a markdown cell for an introduction"
   ]
  },
  {
   "cell_type": "markdown",
   "id": "b9329f27-c08b-4cf6-9e57-720bc697f5ac",
   "metadata": {},
   "source": [
    "### _My soluation_: \n",
    "\n",
    "In this notebook, Data Science Tools and Ecosystem are summarized."
   ]
  },
  {
   "cell_type": "markdown",
   "id": "160f1af4-d6c6-40e1-92d3-3afd35df57fc",
   "metadata": {},
   "source": [
    "__Objectives:__\n",
    "\n",
    "1. _Making markdown cells in multi statuses._\n",
    "2. _Review data science course information._\n",
    "3. _Ensure all this course's tools are understand and workable._"
   ]
  },
  {
   "cell_type": "markdown",
   "id": "55fbbbdd-46e5-4d50-8789-d98c3ed48242",
   "metadata": {},
   "source": [
    "## Exercise 4 - Create a markdown cell to list data science languages"
   ]
  },
  {
   "cell_type": "markdown",
   "id": "7ec21906-40e2-408d-8ecd-a8e4592475c7",
   "metadata": {},
   "source": [
    "### _My soluation_: \n",
    "\n",
    "Some of the popular languages that Data Scientists use are:\n",
    "1. python\n",
    "2. R\n"
   ]
  },
  {
   "cell_type": "markdown",
   "id": "0bc27846-726d-4f50-9a5b-2019aac6fc1c",
   "metadata": {},
   "source": [
    "## Exercise 5 - Create a markdown cell to list data science libraries"
   ]
  },
  {
   "cell_type": "markdown",
   "id": "f56de350-144b-4893-a5f1-c78b8930382a",
   "metadata": {},
   "source": [
    "### _My soluation_: \n",
    "\n",
    "Some of the commonly used libraries used by Data Scientists include:\n",
    "1. Pandas\n",
    "2. Numpy\n",
    "3. Seaborn\n"
   ]
  },
  {
   "cell_type": "markdown",
   "id": "0b2e19f9-1624-4dd9-a067-8741e0d5b662",
   "metadata": {},
   "source": [
    "## Exercise 6 - Create a markdown cell with a table of Data Science tools"
   ]
  },
  {
   "cell_type": "markdown",
   "id": "9f3f0c72-d2d3-4365-ab58-62ba2f7fbc74",
   "metadata": {},
   "source": [
    "### _My soluation_: \n",
    "\n",
    "| Data Science Tools |\n",
    "|---|\n",
    "|Jupyter Notebook|\n",
    "|Github|"
   ]
  },
  {
   "cell_type": "markdown",
   "id": "69789b47-be33-4f3a-ad8a-5eefd034eff4",
   "metadata": {},
   "source": [
    "## Exercise 7 - Create a markdown cell introducing arithmetic expression examples"
   ]
  },
  {
   "cell_type": "markdown",
   "id": "4f2c4afa-e79c-4323-be2c-4f702bd4e5cc",
   "metadata": {},
   "source": [
    "### _My soluation_: \n",
    "\n",
    "### Below are a few examples of evaluating arithmetic expressions in Python:\n",
    "\n",
    "1. ** -> for exponentiation.\n",
    "2. // -> for integer division\n",
    "3. % -> for modulus"
   ]
  },
  {
   "cell_type": "markdown",
   "id": "85910a75-e9db-414e-a8a6-377a3b0e490f",
   "metadata": {},
   "source": [
    "## Exercise 8 - Create a code cell to multiply and add numbers"
   ]
  },
  {
   "cell_type": "markdown",
   "id": "bf91618e-fa9a-4a4d-aa17-c1a385f2b2b1",
   "metadata": {},
   "source": [
    "### _My soluation_: \n"
   ]
  },
  {
   "cell_type": "code",
   "execution_count": 1,
   "id": "2ca14fe8-c7a1-4c84-9c34-4bc1c24b78cb",
   "metadata": {
    "tags": []
   },
   "outputs": [
    {
     "data": {
      "text/plain": [
       "17"
      ]
     },
     "execution_count": 1,
     "metadata": {},
     "output_type": "execute_result"
    }
   ],
   "source": [
    " # This a simple arithmetic expression to mutiply then add integers\n",
    "(3*4)+5"
   ]
  },
  {
   "cell_type": "markdown",
   "id": "c4077d4d-20f9-4cfc-b59e-70786739f3f8",
   "metadata": {},
   "source": [
    "## Exercise 9 - Create a code cell to convert minutes to hours"
   ]
  },
  {
   "cell_type": "markdown",
   "id": "b5cc3d4e-3598-4957-acdf-28ba96457802",
   "metadata": {},
   "source": [
    "### _My soluation_: \n"
   ]
  },
  {
   "cell_type": "code",
   "execution_count": 2,
   "id": "270354d7-5633-48a7-bc40-31602677cca1",
   "metadata": {
    "tags": []
   },
   "outputs": [
    {
     "data": {
      "text/plain": [
       "3.3333333333333335"
      ]
     },
     "execution_count": 2,
     "metadata": {},
     "output_type": "execute_result"
    }
   ],
   "source": [
    "# This will convert 200 minutes to hours by diving by 60.\n",
    "200 / 60"
   ]
  },
  {
   "cell_type": "markdown",
   "id": "860915c9-f4f3-4b65-af05-a009183008a0",
   "metadata": {},
   "source": [
    "## Exercise 10 - Insert a markdown cell to list Objectives"
   ]
  },
  {
   "cell_type": "markdown",
   "id": "16d20d60-b21b-4da8-83f4-43187b4374f6",
   "metadata": {},
   "source": [
    "### _My soluation_: \n",
    "\n",
    "[Click here](photo/10-objectives.png)"
   ]
  },
  {
   "cell_type": "markdown",
   "id": "2e74724f-eb57-4dcb-9c77-b1ac47a9e684",
   "metadata": {},
   "source": [
    "## Exercise 11 - Create a markdown cell to indicate the Author's name"
   ]
  },
  {
   "cell_type": "markdown",
   "id": "9378e607-beda-4a23-a32e-2a7c8a0ca10c",
   "metadata": {},
   "source": [
    "### _My soluation_: "
   ]
  },
  {
   "cell_type": "markdown",
   "id": "8dd276f1-ecf6-4297-ab69-734f873cba70",
   "metadata": {},
   "source": [
    "## Author\n",
    "\n",
    "[Razan Alsallumi ](https://www.linkedin.com/in/razan-alsallumi-443078179/)"
   ]
  }
 ],
 "metadata": {
  "kernelspec": {
   "display_name": "Python",
   "language": "python",
   "name": "conda-env-python-py"
  },
  "language_info": {
   "codemirror_mode": {
    "name": "ipython",
    "version": 3
   },
   "file_extension": ".py",
   "mimetype": "text/x-python",
   "name": "python",
   "nbconvert_exporter": "python",
   "pygments_lexer": "ipython3",
   "version": "3.7.12"
  }
 },
 "nbformat": 4,
 "nbformat_minor": 5
}
